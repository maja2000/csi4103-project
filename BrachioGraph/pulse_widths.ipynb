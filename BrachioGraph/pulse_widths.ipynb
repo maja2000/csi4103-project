{
 "cells": [
  {
   "cell_type": "code",
   "execution_count": 2,
   "metadata": {},
   "outputs": [
    {
     "data": {
      "text/plain": [
       "<matplotlib.collections.PathCollection at 0x1145023c8>"
      ]
     },
     "execution_count": 2,
     "metadata": {},
     "output_type": "execute_result"
    },
    {
     "data": {
      "image/png": "[encoded data removed]",
      "text/plain": [
       "<Figure size 432x288 with 1 Axes>"
      ]
     },
     "metadata": {
      "needs_background": "light"
     },
     "output_type": "display_data"
    }
   ],
   "source": [
    "%matplotlib inline\n",
    "import matplotlib.pyplot as plt\n",
    "import numpy\n",
    "\n",
    "x = numpy.linspace(-180, 36)\n",
    "\n",
    "servo_angle_pws = [\n",
    "    [-162, 2490],\n",
    "    [-144, 2270],\n",
    "    [-126, 2070],\n",
    "    [-108, 1880],\n",
    "    [ -90, 1680],\n",
    "    [ -72, 1540],\n",
    "    [ -54, 1360],\n",
    "    [ -36, 1190],\n",
    "    [ -18, 1020],\n",
    "    [   0,  830],\n",
    "    [  18,  610],\n",
    "]\n",
    "\n",
    "# for i in range(len(servo_1_array))[1:]:\n",
    "#     print(\"Using %s terms\" %i)\n",
    "               \n",
    "servo_array = numpy.array(servo_angle_pws)\n",
    "angles_to_pw = numpy.poly1d(\n",
    "    numpy.polyfit(\n",
    "        servo_array[:,0],\n",
    "        servo_array[:,1],\n",
    "        3  # try different values to see how more/fewer terms in the polynomial function affect results\n",
    "    )\n",
    ")\n",
    "\n",
    "plt.plot(x, angles_to_pw(x))\n",
    "x, y = servo_array.T\n",
    "plt.scatter(x, y)"
   ]
  },
  {
   "cell_type": "code",
   "execution_count": null,
   "metadata": {},
   "outputs": [],
   "source": [
    "len(servo_1_array)"
   ]
  },
  {
   "cell_type": "code",
   "execution_count": null,
   "metadata": {},
   "outputs": [],
   "source": []
  }
 ],
 "metadata": {
  "kernelspec": {
   "display_name": "Python 3",
   "language": "python",
   "name": "python3"
  },
  "language_info": {
   "codemirror_mode": {
    "name": "ipython",
    "version": 3
   },
   "file_extension": ".py",
   "mimetype": "text/x-python",
   "name": "python",
   "nbconvert_exporter": "python",
   "pygments_lexer": "ipython3",
   "version": "3.7.3"
  }
 },
 "nbformat": 4,
 "nbformat_minor": 4
}
